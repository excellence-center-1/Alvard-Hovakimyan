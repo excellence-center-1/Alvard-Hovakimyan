{
  "nbformat": 4,
  "nbformat_minor": 0,
  "metadata": {
    "colab": {
      "provenance": []
    },
    "kernelspec": {
      "name": "python3",
      "display_name": "Python 3"
    }
  },
  "cells": [
    {
      "cell_type": "markdown",
      "metadata": {
        "id": "mUHLJQsJaMNt"
      },
      "source": [
        "# Exercises"
      ]
    },
    {
      "cell_type": "markdown",
      "metadata": {
        "id": "GCEodKTbRd_r"
      },
      "source": [
        "## Conditionals"
      ]
    },
    {
      "cell_type": "markdown",
      "metadata": {
        "id": "YUaFYy8OIHWp"
      },
      "source": [
        "Problem1. (3 points) Write a program that asks the user to provide an integer that specifies a person's age, and according to that value print whether the person is a **child** (0-14), **young** (15-24), **adult** (25-64) or **senior** (more than 64).\n",
        "\n",
        "  Գրել ծրագիր, որը օգտատիրոջից վերցնում է տվյալ անձի տարիքը որպես ամբողջ թիվ և կախված այդ թվից տպում է **child** (0-14), **young** (15-24), **adult** (25-64) or **senior** (more than 64)։ "
      ]
    },
    {
      "cell_type": "code",
      "metadata": {
        "id": "xrSVUy31IHeV"
      },
      "source": [],
      "execution_count": null,
      "outputs": []
    },
    {
      "cell_type": "markdown",
      "metadata": {
        "id": "FgcH-562IHlB"
      },
      "source": [
        "Problem2. (9 points) A year is a leap year (նահանջ տարի) if it is divisible by 4, except that years divisible by 100 are not leap years\n",
        "unless they are also divisible by 400. Write a program that asks the user for a year and prints\n",
        "out whether it is a leap year or not.\n",
        "\n",
        "  Տարին *նահանջ տարի* է, եթե տարեթիվը բաժանվում է 4-ի, բացառությամբ այն տարեթվերի, որոնք բաժանվում են 100-ի և չեն բաժանվում 400-ի վրա։ Գրել ծրագիր, որը վերցնում է օգտատիրոջ ներմուծած տարեթիվը և տպում արդյոք դա նահանջ տարի է, թե չէ։"
      ]
    },
    {
      "cell_type": "code",
      "metadata": {
        "id": "KMqAiNsGIHsU"
      },
      "source": [],
      "execution_count": null,
      "outputs": []
    },
    {
      "cell_type": "markdown",
      "metadata": {
        "id": "IicCIcQvIHxY"
      },
      "source": [
        "Problem3. (3 points) Write a program that asks the user to provide three numbers. The the program should check whether the third number is the product of the first two, and if so it should display **True**, otherwise **False**. For example, in case of $2,4,8$ the output should be True because $2\\cdot 4=8$\n",
        "\n",
        "Գրել ծրագիր, որը օգտատիրոջից վերցնում է 3 թվեր և ստուգում՝ արդյոք երրորդ թիվը առաջին երկուսի արտադրյալն է, թե ոչ։ Առաջին դեպքում պետք է տպել **True**, հակառակ դեպքում՝ **False**։ Օրինակ՝ $2,4,8$ թվերի դեպքում կլինի **True**, քանի որ $2\\cdot 4=8$"
      ]
    },
    {
      "cell_type": "code",
      "metadata": {
        "id": "gW2JdxzWIH4g"
      },
      "source": [],
      "execution_count": null,
      "outputs": []
    },
    {
      "cell_type": "markdown",
      "metadata": {
        "id": "MEC70di4IH_O"
      },
      "source": [
        "Problem4. (9 points) Write a program that asks the user for an hour between 1 and 12, asks them to enter **am** or **pm** [[1]](https://en.wikipedia.org/wiki/12-hour_clock),\n",
        "and asks them how many hours into the future they want to go. Print out what the hour will be after adding the last number, printing *am* or *pm* as appropriate. An example is shown\n",
        "below.\n",
        "\n",
        "  Գրել ծրագիր, որում օգտատերը ներմուծում է 1-12 թիվ (որպես ժամ), ինչպես նաև `am` կամ `pm` (իմանալ ավելին [այստեղ](https://en.wikipedia.org/wiki/12-hour_clock))։ Այնուհետև օգտատիրոջից վերցնում է մի թիվ, որը ցույց է տալիս թե քանի ժամ է ուզում գումարել սկզբնական ժամին։ Ծրագիրը պետք է վերադարձնի ժամերի գումարը և նշի արդյոք դա `am` է, թե `pm`: Օրինակ՝ \n",
        "\n",
        "\n",
        "*Enter hour: 8* \n",
        "\n",
        "*am (1) or pm (2)? 1*\n",
        "\n",
        "*How many hours ahead? 5*\n",
        "\n",
        "*New hour: 1 pm*"
      ]
    },
    {
      "cell_type": "code",
      "metadata": {
        "id": "wU6-9X9zIIFe"
      },
      "source": [],
      "execution_count": null,
      "outputs": []
    },
    {
      "cell_type": "markdown",
      "metadata": {
        "id": "DX4939I0Kdqt"
      },
      "source": [
        "Problem5. (4 points) A company decided to give bonus of $5\\%$ to those employees whose experience in the company is more than $5$ years.\n",
        "Ask the user for their salary and number of working years and print the net bonus amount, otherwise print **No bonus**.\n",
        "\n",
        "  Ինչ-որ ընկերություն որոշել է տրամադրել $5\\%$ բոնուս այն աշխատակիցներին, ովքեր աշխատանքային փորձը գերազանցում է 5 տարին։ Օգտատիրոջ կողմից մուտքագրված աշխատավարձի և աշխատանքային տարիների տվյալի հիման վրա անհրաժեշտ է հաշվել և տպել ստացվելիք զուտ բոնուսի չափը, հակառակ դեպքում տպել **No bonus**։"
      ]
    },
    {
      "cell_type": "code",
      "metadata": {
        "id": "bAKqzpv6KfDJ"
      },
      "source": [],
      "execution_count": null,
      "outputs": []
    },
    {
      "cell_type": "markdown",
      "metadata": {
        "id": "0N7CjkxwY3Jj"
      },
      "source": [
        "## while loop"
      ]
    },
    {
      "cell_type": "markdown",
      "metadata": {
        "id": "DyI6E4pMY3TW"
      },
      "source": [
        "Problem6. (9 points) Rewrite the code using a **while** loop to accomplish the same thing.\n",
        "\n",
        "  Գրել նշված ծրագիրը **while** ցիկլով։\n",
        "\n",
        "`for i in range(1, 51):`\n",
        "\n",
        "           `print(i)`\n"
      ]
    },
    {
      "cell_type": "code",
      "metadata": {
        "id": "xXnFBwF6Y3aG",
        "colab": {
          "base_uri": "https://localhost:8080/"
        },
        "outputId": "d7e52114-7e38-4f52-c0fa-88c0a35ba23a"
      },
      "source": [
        "i=1\n",
        "while i < 52:\n",
        "  print(i)\n",
        "  i+=1"
      ],
      "execution_count": 1,
      "outputs": [
        {
          "output_type": "stream",
          "name": "stdout",
          "text": [
            "1\n",
            "2\n",
            "3\n",
            "4\n",
            "5\n",
            "6\n",
            "7\n",
            "8\n",
            "9\n",
            "10\n",
            "11\n",
            "12\n",
            "13\n",
            "14\n",
            "15\n",
            "16\n",
            "17\n",
            "18\n",
            "19\n",
            "20\n",
            "21\n",
            "22\n",
            "23\n",
            "24\n",
            "25\n",
            "26\n",
            "27\n",
            "28\n",
            "29\n",
            "30\n",
            "31\n",
            "32\n",
            "33\n",
            "34\n",
            "35\n",
            "36\n",
            "37\n",
            "38\n",
            "39\n",
            "40\n",
            "41\n",
            "42\n",
            "43\n",
            "44\n",
            "45\n",
            "46\n",
            "47\n",
            "48\n",
            "49\n",
            "50\n",
            "51\n"
          ]
        }
      ]
    },
    {
      "cell_type": "markdown",
      "metadata": {
        "id": "LN3WNPA8Y3fE"
      },
      "source": [
        "Problem7. (9 points) Write a program with **while** loop, to play the following game. The player starts with $\\$100$. On each\n",
        "turn a coin is flipped and the player has to guess heads or tails. The player wins $\\$9$ for each\n",
        "correct guess and loses $\\$10$ for each incorrect guess. The game ends either when the player\n",
        "runs out of money or gets to $\\$200$.\n",
        "\n",
        "  Գրել ծրագիր **while** ցիկլով, որը կխաղա հետևյալ խաղը․ խաղացողը սկսում է $\\$100$-ով և յուրաքանչյուր քայլում նետվում է մետաղադրամ, իսկ խաղացողը պետք է գուշակի արդյոք ղուշ է ստացվել, թե գիր։ Յուրաքանչյուր ճիշտ գուշակածի համար խաղացողը ստանում է $\\$9$ և կորցնում է $\\$10$ յուրաքանչյուր սխալի դեպքում։ Խաղն ավարտվում է, եթե խաղացողը կորցնում է ամբողջ գումարը կամ հավաքում է $\\$200$:"
      ]
    },
    {
      "cell_type": "code",
      "metadata": {
        "id": "c78pu3CXY3j1",
        "colab": {
          "base_uri": "https://localhost:8080/",
          "height": 382
        },
        "outputId": "f3fac43e-17ee-4321-9a58-61411cc54180"
      },
      "source": [
        "import random\n",
        "pox = 100\n",
        "while pox != 200 or pox !=0:\n",
        "  a = int(input(\"1= heads, 2=tails : \"))\n",
        "  b=random.randint(1,2)\n",
        "  if a == b:\n",
        "    pox += 9\n",
        "    print(\"You win 9$. Your money is \", pox,\"$\", sep=\"\")\n",
        "  else:\n",
        "    pox -= 10\n",
        "    print(\"You lose 10$. Your money is \", pox,\"$\", sep=\"\")"
      ],
      "execution_count": 8,
      "outputs": [
        {
          "output_type": "error",
          "ename": "KeyboardInterrupt",
          "evalue": "ignored",
          "traceback": [
            "\u001b[0;31m---------------------------------------------------------------------------\u001b[0m",
            "\u001b[0;31mKeyboardInterrupt\u001b[0m                         Traceback (most recent call last)",
            "\u001b[0;32m<ipython-input-8-656248495455>\u001b[0m in \u001b[0;36m<module>\u001b[0;34m\u001b[0m\n\u001b[1;32m      2\u001b[0m \u001b[0mpox\u001b[0m \u001b[0;34m=\u001b[0m \u001b[0;36m100\u001b[0m\u001b[0;34m\u001b[0m\u001b[0;34m\u001b[0m\u001b[0m\n\u001b[1;32m      3\u001b[0m \u001b[0;32mwhile\u001b[0m \u001b[0mpox\u001b[0m \u001b[0;34m!=\u001b[0m \u001b[0;36m200\u001b[0m \u001b[0;32mor\u001b[0m \u001b[0mpox\u001b[0m \u001b[0;34m!=\u001b[0m\u001b[0;36m0\u001b[0m\u001b[0;34m:\u001b[0m\u001b[0;34m\u001b[0m\u001b[0;34m\u001b[0m\u001b[0m\n\u001b[0;32m----> 4\u001b[0;31m   \u001b[0ma\u001b[0m \u001b[0;34m=\u001b[0m \u001b[0mint\u001b[0m\u001b[0;34m(\u001b[0m\u001b[0minput\u001b[0m\u001b[0;34m(\u001b[0m\u001b[0;34m\"1= heads, 2=tails : \"\u001b[0m\u001b[0;34m)\u001b[0m\u001b[0;34m)\u001b[0m\u001b[0;34m\u001b[0m\u001b[0;34m\u001b[0m\u001b[0m\n\u001b[0m\u001b[1;32m      5\u001b[0m   \u001b[0mb\u001b[0m\u001b[0;34m=\u001b[0m\u001b[0mrandom\u001b[0m\u001b[0;34m.\u001b[0m\u001b[0mrandint\u001b[0m\u001b[0;34m(\u001b[0m\u001b[0;36m1\u001b[0m\u001b[0;34m,\u001b[0m\u001b[0;36m2\u001b[0m\u001b[0;34m)\u001b[0m\u001b[0;34m\u001b[0m\u001b[0;34m\u001b[0m\u001b[0m\n\u001b[1;32m      6\u001b[0m   \u001b[0;32mif\u001b[0m \u001b[0ma\u001b[0m \u001b[0;34m==\u001b[0m \u001b[0mb\u001b[0m\u001b[0;34m:\u001b[0m\u001b[0;34m\u001b[0m\u001b[0;34m\u001b[0m\u001b[0m\n",
            "\u001b[0;32m/usr/local/lib/python3.7/dist-packages/ipykernel/kernelbase.py\u001b[0m in \u001b[0;36mraw_input\u001b[0;34m(self, prompt)\u001b[0m\n\u001b[1;32m    861\u001b[0m             \u001b[0mself\u001b[0m\u001b[0;34m.\u001b[0m\u001b[0m_parent_ident\u001b[0m\u001b[0;34m,\u001b[0m\u001b[0;34m\u001b[0m\u001b[0;34m\u001b[0m\u001b[0m\n\u001b[1;32m    862\u001b[0m             \u001b[0mself\u001b[0m\u001b[0;34m.\u001b[0m\u001b[0m_parent_header\u001b[0m\u001b[0;34m,\u001b[0m\u001b[0;34m\u001b[0m\u001b[0;34m\u001b[0m\u001b[0m\n\u001b[0;32m--> 863\u001b[0;31m             \u001b[0mpassword\u001b[0m\u001b[0;34m=\u001b[0m\u001b[0;32mFalse\u001b[0m\u001b[0;34m,\u001b[0m\u001b[0;34m\u001b[0m\u001b[0;34m\u001b[0m\u001b[0m\n\u001b[0m\u001b[1;32m    864\u001b[0m         )\n\u001b[1;32m    865\u001b[0m \u001b[0;34m\u001b[0m\u001b[0m\n",
            "\u001b[0;32m/usr/local/lib/python3.7/dist-packages/ipykernel/kernelbase.py\u001b[0m in \u001b[0;36m_input_request\u001b[0;34m(self, prompt, ident, parent, password)\u001b[0m\n\u001b[1;32m    902\u001b[0m             \u001b[0;32mexcept\u001b[0m \u001b[0mKeyboardInterrupt\u001b[0m\u001b[0;34m:\u001b[0m\u001b[0;34m\u001b[0m\u001b[0;34m\u001b[0m\u001b[0m\n\u001b[1;32m    903\u001b[0m                 \u001b[0;31m# re-raise KeyboardInterrupt, to truncate traceback\u001b[0m\u001b[0;34m\u001b[0m\u001b[0;34m\u001b[0m\u001b[0;34m\u001b[0m\u001b[0m\n\u001b[0;32m--> 904\u001b[0;31m                 \u001b[0;32mraise\u001b[0m \u001b[0mKeyboardInterrupt\u001b[0m\u001b[0;34m(\u001b[0m\u001b[0;34m\"Interrupted by user\"\u001b[0m\u001b[0;34m)\u001b[0m \u001b[0;32mfrom\u001b[0m \u001b[0;32mNone\u001b[0m\u001b[0;34m\u001b[0m\u001b[0;34m\u001b[0m\u001b[0m\n\u001b[0m\u001b[1;32m    905\u001b[0m             \u001b[0;32mexcept\u001b[0m \u001b[0mException\u001b[0m \u001b[0;32mas\u001b[0m \u001b[0me\u001b[0m\u001b[0;34m:\u001b[0m\u001b[0;34m\u001b[0m\u001b[0;34m\u001b[0m\u001b[0m\n\u001b[1;32m    906\u001b[0m                 \u001b[0mself\u001b[0m\u001b[0;34m.\u001b[0m\u001b[0mlog\u001b[0m\u001b[0;34m.\u001b[0m\u001b[0mwarning\u001b[0m\u001b[0;34m(\u001b[0m\u001b[0;34m\"Invalid Message:\"\u001b[0m\u001b[0;34m,\u001b[0m \u001b[0mexc_info\u001b[0m\u001b[0;34m=\u001b[0m\u001b[0;32mTrue\u001b[0m\u001b[0;34m)\u001b[0m\u001b[0;34m\u001b[0m\u001b[0;34m\u001b[0m\u001b[0m\n",
            "\u001b[0;31mKeyboardInterrupt\u001b[0m: Interrupted by user"
          ]
        }
      ]
    },
    {
      "cell_type": "markdown",
      "metadata": {
        "id": "5Q2uHy0LY3od"
      },
      "source": [
        "Problem8. (9 points) Write a program with **while** loop to create the multiplication table (from 1 to 10) of the given number by the user.\n",
        "\n",
        "  Գրել ծրագիր **while** ցիկլով, որը կտպի օգտատիրոջ կողմից տրված թվի բազմապատկման աղյուսակը (թիվը բազմապատկած 1-ից 10 ամբողջ թվերով)։ Օրինակ՝ 2 թվի համար կլինի\n",
        "\n",
        "  `2 x 1 = 2`\n",
        "\n",
        "  `2 x 2 = 4`\n",
        "\n",
        "  `2 x 3 = 6`\n",
        "\n",
        "  `...`\n",
        "\n",
        "  `2 x 10 = 20`\n",
        "\n"
      ]
    },
    {
      "cell_type": "code",
      "metadata": {
        "id": "jTHfgLx8Y3uR",
        "colab": {
          "base_uri": "https://localhost:8080/"
        },
        "outputId": "b193a7f1-9797-4a21-f9a8-a39d11b4f3b5"
      },
      "source": [
        "a = int(input(\"Tupe numper\"))\n",
        "i = 1\n",
        "while i < 11:\n",
        "  print(a,\"*\",i,\"=\",a*i) \n",
        "  i+=1"
      ],
      "execution_count": 10,
      "outputs": [
        {
          "output_type": "stream",
          "name": "stdout",
          "text": [
            "Tupe numper2\n",
            "2 * 1 = 2\n",
            "2 * 2 = 4\n",
            "2 * 3 = 6\n",
            "2 * 4 = 8\n",
            "2 * 5 = 10\n",
            "2 * 6 = 12\n",
            "2 * 7 = 14\n",
            "2 * 8 = 16\n",
            "2 * 9 = 18\n",
            "2 * 10 = 20\n"
          ]
        }
      ]
    },
    {
      "cell_type": "markdown",
      "metadata": {
        "id": "htmsWR2NZtlP"
      },
      "source": [
        "## for loop"
      ]
    },
    {
      "cell_type": "markdown",
      "metadata": {
        "id": "47iO-RfmZtsK"
      },
      "source": [
        "Problem9. (9 points) Write a program that uses a for loop to print the numbers 100, 98, 96, . . . , 4, 2.\n",
        "\n",
        "  Գրել ծրագիր, որը օգտագործելով **for** ցիկլ կտպի թվերի հետևյալ հաջորդականությունը 100, 98, 96, . . . , 4, 2․"
      ]
    },
    {
      "cell_type": "code",
      "metadata": {
        "id": "t1aU-LZrZtxF",
        "colab": {
          "base_uri": "https://localhost:8080/"
        },
        "outputId": "a4c3cc66-255a-424c-ddc2-62161baf7723"
      },
      "source": [
        "for i in range(100,1,-2):\n",
        "  print(i)"
      ],
      "execution_count": 17,
      "outputs": [
        {
          "output_type": "stream",
          "name": "stdout",
          "text": [
            "100\n",
            "98\n",
            "96\n",
            "94\n",
            "92\n",
            "90\n",
            "88\n",
            "86\n",
            "84\n",
            "82\n",
            "80\n",
            "78\n",
            "76\n",
            "74\n",
            "72\n",
            "70\n",
            "68\n",
            "66\n",
            "64\n",
            "62\n",
            "60\n",
            "58\n",
            "56\n",
            "54\n",
            "52\n",
            "50\n",
            "48\n",
            "46\n",
            "44\n",
            "42\n",
            "40\n",
            "38\n",
            "36\n",
            "34\n",
            "32\n",
            "30\n",
            "28\n",
            "26\n",
            "24\n",
            "22\n",
            "20\n",
            "18\n",
            "16\n",
            "14\n",
            "12\n",
            "10\n",
            "8\n",
            "6\n",
            "4\n",
            "2\n"
          ]
        }
      ]
    },
    {
      "cell_type": "markdown",
      "metadata": {
        "id": "OQ5QTqmrZxbV"
      },
      "source": [
        "Problem10. (9 points) Write a program that asks the user for their name and how many times to print it. The program\n",
        "should print out the user's name the specified number of times on the same line separated with a space.\n",
        "\n",
        "  Գրել ծրագիր, որը կվերցնի օգտատիրոջ անունը և մի թիվ, որը կներկայացնի թե քանի անգամ պետք է տպել այդ անունը։ Ծրագիրը պետք է տպի այդ անունը նշված քանակությամբ նույն տողում (բացատով առանձնացված)։"
      ]
    },
    {
      "cell_type": "code",
      "metadata": {
        "id": "-2gUnWUnZxfl",
        "colab": {
          "base_uri": "https://localhost:8080/"
        },
        "outputId": "f202e906-36e6-42fe-bac0-c0bd581a2d1f"
      },
      "source": [
        "name = input(\"Tupe your name: \")\n",
        "n = int(input(\"Tupe one number\"))\n",
        "if n != 0:\n",
        "  for i in range(1,n+1,1):\n",
        "    print(name, end=\" \")\n",
        "else:\n",
        "  print(\"Content ErooooooooooooooooooooR: You tupe 0\")"
      ],
      "execution_count": 22,
      "outputs": [
        {
          "output_type": "stream",
          "name": "stdout",
          "text": [
            "Tupe your name: 2\n",
            "Tupe one number2\n",
            "2 2 "
          ]
        }
      ]
    },
    {
      "cell_type": "markdown",
      "metadata": {
        "id": "S74SK5tHZxj5"
      },
      "source": [
        "Problem11. (9 points) The Fibonacci numbers are the sequence below, where the first two numbers are 1, and each\n",
        "number thereafter is the sum of the two preceding numbers. Write a program that asks the\n",
        "user how many Fibonacci numbers to print and then prints that many.\n",
        "\n",
        "  Ֆիբոնաչիի թվերի հաջորդականությունը այնպիսին է, որ առաջին երկու թվերը 1 են, իսկ մնացած թվերը ստացվում ենք նախորդ երկուսի գումարից։ Գրել ծրագիր, որը տպում է օգտատիրոջ կողմից նշված քանակությամբ ֆիբոնաչիի հաջորդականության թվեր առանձնացված ստորակետով, օրինակ՝ 11-ի համար կլինի այսպես․ \n",
        "$$1, 1, 2, 3, 5, 8, 13, 21, 34, 55, 89$$"
      ]
    },
    {
      "cell_type": "code",
      "metadata": {
        "id": "Jce7Z8LAZxnr",
        "colab": {
          "base_uri": "https://localhost:8080/"
        },
        "outputId": "c5de5a24-4712-4c69-e18e-f5ce943d4cb4"
      },
      "source": [
        "numbers = int(input('Enter the number: '))\n",
        "last_number = 1\n",
        "pre_last = 0\n",
        "n = 0\n",
        "for i in range(numbers):\n",
        "  if i < numbers - 1:\n",
        "    print(n, end=',')\n",
        "    n = pre_last + last_number\n",
        "    pre_last, last_number = last_number, n\n",
        "  else:\n",
        "    print(n)\n",
        "    n = pre_last + last_number\n",
        "    pre_last, last_number = last_number, n"
      ],
      "execution_count": 23,
      "outputs": [
        {
          "output_type": "stream",
          "name": "stdout",
          "text": [
            "Enter the number: 59\n",
            "0,1,2,3,5,8,13,21,34,55,89,144,233,377,610,987,1597,2584,4181,6765,10946,17711,28657,46368,75025,121393,196418,317811,514229,832040,1346269,2178309,3524578,5702887,9227465,14930352,24157817,39088169,63245986,102334155,165580141,267914296,433494437,701408733,1134903170,1836311903,2971215073,4807526976,7778742049,12586269025,20365011074,32951280099,53316291173,86267571272,139583862445,225851433717,365435296162,591286729879,956722026041\n"
          ]
        }
      ]
    },
    {
      "cell_type": "markdown",
      "metadata": {
        "id": "chqWLQtkZxro"
      },
      "source": [
        "Problem12. (9 points) Write a program that asks the user to enter a value $n$, and then prints the value for $1+\\frac{1}{2}+\\frac{1}{3}+\\ldots+\\frac{1}{n}$. \n",
        "\n",
        "  Գրել ծրագիր, որը օգտատիրոջ կողմից մուտքագրված $n$-ի համար կհաշվի հետևյալ արտահայտությունը $1+\\frac{1}{2}+\\frac{1}{3}+\\ldots+\\frac{1}{n}$ և կտպի ստացված արժեքը։\n"
      ]
    },
    {
      "cell_type": "code",
      "metadata": {
        "id": "9zb_Cd3FZ9Ra",
        "colab": {
          "base_uri": "https://localhost:8080/"
        },
        "outputId": "7560bd77-9908-4a83-d120-2f5aa9fc245d"
      },
      "source": [
        "n = int(input(\"Tupe number: \"))\n",
        "sum = 0\n",
        "for i in range(1,n+1,1):\n",
        "  sum += (1/i)\n",
        "print(\"Sum =\",sum)"
      ],
      "execution_count": 29,
      "outputs": [
        {
          "output_type": "stream",
          "name": "stdout",
          "text": [
            "Tupe number: 95\n",
            "Sum = 5.136346480888775\n"
          ]
        }
      ]
    },
    {
      "cell_type": "markdown",
      "metadata": {
        "id": "gM-DuhoCZ9WE"
      },
      "source": [
        "Problem13. (9 points) Write a program to compute the sum $1-2+3-4+\\ldots+1999-2000$ using a **for** loop.\n",
        "\n",
        "  Գրել ծրագիր, որը կհաշվի հետևյալ գումարը $1-2+3-4+\\ldots+1999-2000$ օգտագործելով **for** ցիկլը։"
      ]
    },
    {
      "cell_type": "code",
      "metadata": {
        "id": "xkuGxtT8Z9an",
        "colab": {
          "base_uri": "https://localhost:8080/"
        },
        "outputId": "04fb7832-ff08-4f1c-c831-6a6cea98ff8c"
      },
      "source": [
        "sum = 0\n",
        "for i in range(1,2001,1):\n",
        "  if i % 2 == 0:\n",
        "    sum -= i\n",
        "  else:\n",
        "    sum += i\n",
        "print(\"Sum =\", sum)"
      ],
      "execution_count": 31,
      "outputs": [
        {
          "output_type": "stream",
          "name": "stdout",
          "text": [
            "Sum = -1000\n"
          ]
        }
      ]
    }
  ]
}